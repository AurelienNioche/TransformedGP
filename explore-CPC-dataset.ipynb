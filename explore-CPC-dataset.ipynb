{
 "cells": [
  {
   "cell_type": "code",
   "execution_count": 26,
   "id": "major-error",
   "metadata": {
    "ExecuteTime": {
     "end_time": "2023-10-24T13:50:36.386644Z",
     "start_time": "2023-10-24T13:50:36.377011Z"
    }
   },
   "outputs": [],
   "source": [
    "import pandas as pd\n",
    "import matplotlib.pyplot as plt\n",
    "import seaborn as sns"
   ]
  },
  {
   "cell_type": "code",
   "execution_count": 27,
   "id": "written-criminal",
   "metadata": {
    "ExecuteTime": {
     "end_time": "2023-10-24T13:50:36.630953Z",
     "start_time": "2023-10-24T13:50:36.627762Z"
    }
   },
   "outputs": [],
   "source": [
    "# Don't sting my eyes\n",
    "%config InlineBackend.figure_format = 'retina'\n",
    "sns.set()"
   ]
  },
  {
   "cell_type": "markdown",
   "id": "equipped-gospel",
   "metadata": {},
   "source": [
    "Data accessible here: https://zenodo.org/record/845873#.WeDg9GhSw2x"
   ]
  },
  {
   "cell_type": "code",
   "execution_count": 28,
   "id": "burning-people",
   "metadata": {
    "ExecuteTime": {
     "end_time": "2023-10-24T13:50:37.512816Z",
     "start_time": "2023-10-24T13:50:36.980739Z"
    }
   },
   "outputs": [
    {
     "data": {
      "text/plain": "   SubjID Location Gender  Age  Set Condition  GameID  Ha  pHa  La  ... Trial  \\\n0   10100  Rehovot      M   28    1    ByProb      13   0  1.0   0  ...     1   \n1   10100  Rehovot      M   28    1    ByProb      13   0  1.0   0  ...     2   \n2   10100  Rehovot      M   28    1    ByProb      13   0  1.0   0  ...     3   \n3   10100  Rehovot      M   28    1    ByProb      13   0  1.0   0  ...     4   \n4   10100  Rehovot      M   28    1    ByProb      13   0  1.0   0  ...     5   \n\n   Button  B  Payoff  Forgone  RT  Apay  Bpay  Feedback  block  \n0       L  1      50        0 NaN     0    50         0      1  \n1       L  1      50        0 NaN     0    50         0      1  \n2       L  1     -50        0 NaN     0   -50         0      1  \n3       L  1     -50        0 NaN     0   -50         0      1  \n4       L  1     -50        0 NaN     0   -50         0      1  \n\n[5 rows x 30 columns]",
      "text/html": "<div>\n<style scoped>\n    .dataframe tbody tr th:only-of-type {\n        vertical-align: middle;\n    }\n\n    .dataframe tbody tr th {\n        vertical-align: top;\n    }\n\n    .dataframe thead th {\n        text-align: right;\n    }\n</style>\n<table border=\"1\" class=\"dataframe\">\n  <thead>\n    <tr style=\"text-align: right;\">\n      <th></th>\n      <th>SubjID</th>\n      <th>Location</th>\n      <th>Gender</th>\n      <th>Age</th>\n      <th>Set</th>\n      <th>Condition</th>\n      <th>GameID</th>\n      <th>Ha</th>\n      <th>pHa</th>\n      <th>La</th>\n      <th>...</th>\n      <th>Trial</th>\n      <th>Button</th>\n      <th>B</th>\n      <th>Payoff</th>\n      <th>Forgone</th>\n      <th>RT</th>\n      <th>Apay</th>\n      <th>Bpay</th>\n      <th>Feedback</th>\n      <th>block</th>\n    </tr>\n  </thead>\n  <tbody>\n    <tr>\n      <th>0</th>\n      <td>10100</td>\n      <td>Rehovot</td>\n      <td>M</td>\n      <td>28</td>\n      <td>1</td>\n      <td>ByProb</td>\n      <td>13</td>\n      <td>0</td>\n      <td>1.0</td>\n      <td>0</td>\n      <td>...</td>\n      <td>1</td>\n      <td>L</td>\n      <td>1</td>\n      <td>50</td>\n      <td>0</td>\n      <td>NaN</td>\n      <td>0</td>\n      <td>50</td>\n      <td>0</td>\n      <td>1</td>\n    </tr>\n    <tr>\n      <th>1</th>\n      <td>10100</td>\n      <td>Rehovot</td>\n      <td>M</td>\n      <td>28</td>\n      <td>1</td>\n      <td>ByProb</td>\n      <td>13</td>\n      <td>0</td>\n      <td>1.0</td>\n      <td>0</td>\n      <td>...</td>\n      <td>2</td>\n      <td>L</td>\n      <td>1</td>\n      <td>50</td>\n      <td>0</td>\n      <td>NaN</td>\n      <td>0</td>\n      <td>50</td>\n      <td>0</td>\n      <td>1</td>\n    </tr>\n    <tr>\n      <th>2</th>\n      <td>10100</td>\n      <td>Rehovot</td>\n      <td>M</td>\n      <td>28</td>\n      <td>1</td>\n      <td>ByProb</td>\n      <td>13</td>\n      <td>0</td>\n      <td>1.0</td>\n      <td>0</td>\n      <td>...</td>\n      <td>3</td>\n      <td>L</td>\n      <td>1</td>\n      <td>-50</td>\n      <td>0</td>\n      <td>NaN</td>\n      <td>0</td>\n      <td>-50</td>\n      <td>0</td>\n      <td>1</td>\n    </tr>\n    <tr>\n      <th>3</th>\n      <td>10100</td>\n      <td>Rehovot</td>\n      <td>M</td>\n      <td>28</td>\n      <td>1</td>\n      <td>ByProb</td>\n      <td>13</td>\n      <td>0</td>\n      <td>1.0</td>\n      <td>0</td>\n      <td>...</td>\n      <td>4</td>\n      <td>L</td>\n      <td>1</td>\n      <td>-50</td>\n      <td>0</td>\n      <td>NaN</td>\n      <td>0</td>\n      <td>-50</td>\n      <td>0</td>\n      <td>1</td>\n    </tr>\n    <tr>\n      <th>4</th>\n      <td>10100</td>\n      <td>Rehovot</td>\n      <td>M</td>\n      <td>28</td>\n      <td>1</td>\n      <td>ByProb</td>\n      <td>13</td>\n      <td>0</td>\n      <td>1.0</td>\n      <td>0</td>\n      <td>...</td>\n      <td>5</td>\n      <td>L</td>\n      <td>1</td>\n      <td>-50</td>\n      <td>0</td>\n      <td>NaN</td>\n      <td>0</td>\n      <td>-50</td>\n      <td>0</td>\n      <td>1</td>\n    </tr>\n  </tbody>\n</table>\n<p>5 rows × 30 columns</p>\n</div>"
     },
     "execution_count": 28,
     "metadata": {},
     "output_type": "execute_result"
    }
   ],
   "source": [
    "df = pd.read_csv(\"data/cpc2018.csv\")\n",
    "df.head()"
   ]
  },
  {
   "cell_type": "markdown",
   "id": "stock-topic",
   "metadata": {},
   "source": [
    "* `SubjID`: Unique human subject identifier, made up of 5 digits. 1st digit marks the Set of games the subject faced (1-7), 2nd digit marks Location subject played in (0-1), last three digits have no meaning.\n",
    "\n",
    "* `Location`: The physical location the subject was run in (“Technion”/“Rehovot”)\n",
    "* `Gender`: Subject’s gender (M/F)\n",
    "* `Age`: Subject’s age at time of experiment\n",
    "* `Set`: ID for the set number that the subject faced (each set consists of the same 30 games). 1-5 are CPC15 data, 6-7 are CPC18’s Experiment 1 data.\n",
    "* `Condition`: Legacy variable from CPC15 (“ByProb”/”ByFB”). Refers to the order condition by which subject saw the games within a set. CPC18 data will all be “ByProb” condition.\n",
    "* `GameID`: Unique game (choice problem) identifier (1-210).\n",
    "<< The next 12 variables define (jointly) the choice problem by defining the two possible distributions and any relationship between them. For more details on how each 12-tuple defines the exact distributions, see the paper >>\n",
    "* `Ha`: Expected value of (High) lottery in Option A\n",
    "* `pHa`: Probability to get payoff drawn from lottery in Option A\n",
    "* `La`: Low payoff in Option A\n",
    "* `LotShapeA`: Shape of lottery in Option A (“-“, “Symm”, “L-skew”, or “R-skew”) \n",
    "* `LotNumA`: Number of lottery outcomes in Option A\n",
    "* `Hb`: Expected value of (High) lottery in Option B\n",
    "* `pHb`: Probability to get payoff drawn from lottery in Option B\n",
    "* `Lb`: Low payoff in Option B\n",
    "* `LotShapeB`: Shape of lottery in Option B (“-“, “Symm”, “L-skew”, or “R-skew”)\n",
    "* `LotNumB`: Number of lottery outcomes in Option B\n",
    "* `Amb`: Whether Option B is ambiguous (i.e. its probabilities are not described to subjects;\n",
    "Boolean)\n",
    "* `Corr`: Whether payoffs generated by the two possible options are correlated and the sign of the correlation (-1/0/1)\n",
    "* `Order`: The serial position of the current game within the sequence of 30 games the subject faced (1-30)\n",
    "* `Trial`: The trial number within a game (1-25)\n",
    "* `Button`: The on-screen side of the chosen button (“L”/”R”)\n",
    "* `B`: The response variable. Whether or not the subject selected Option B in the current trial (Boolean)\n",
    "* `Payoff`: The payoff the subject got from her/his choice in the current trial\n",
    "* `Forgone`: The payoff the subject would have gotten had she/he selected the other option in the\n",
    "current trial\n",
    "* `RT`: Reaction time until choice of option (in milliseconds). Only measured for Sets 6, 7.\n",
    "<< The next four variables can be computed directly from the previous variables. They are given for convenience. >>\n",
    "* `APay`: The payoff provided by Option A in the current trial \n",
    "* `BPay`: The payoff provided by Option B in the current trial\n",
    "* `Feedback`: Whether (full) feedback was provided for the subject regarding payoffs in the current trial\n",
    "* `Block`: Number of time-block within the current game (each 5 trials define a block)"
   ]
  },
  {
   "cell_type": "markdown",
   "id": "selective-intermediate",
   "metadata": {},
   "source": [
    "From Erev I, Ert E, Plonsky O, Cohen D, Cohen O. From anomalies to forecasts: Toward a descriptive model of decisions under risk, under ambiguity, and from experience. Psychol Rev. 2017 Jul;124(4):369-409. doi: 10.1037/rev0000062. Epub 2017 Mar 9. PMID: 28277716.\n",
    "\n",
    "Accessible here: http://oriplonsky.com/wp-content/uploads/2017/09/Erev-et-al-2017.pdf"
   ]
  },
  {
   "cell_type": "markdown",
   "id": "civilian-california",
   "metadata": {},
   "source": [
    "> The main properties of the problems in Table 1 include at least 11 dimensions.\n",
    "Nine of the 11 dimensions can be described as parameters of the payoff distributions. These\n",
    "parameters include: `LA`, `HA`, `pHA`, `LB`, `HB`, `pHB`, `LotNum`, `LotShape`, and `Corr`. In particular,\n",
    "each problem in the space is a choice between Option A, which provides `HA` with probability\n",
    "`pHA` or `LA` otherwise (with probability 1 − `pHA`), and Option B, which provides a lottery (that\n",
    "has an expected value of `HB`) with probability `pHB`, and provides LB otherwise (with\n",
    "probability 1 − `pHB`). The distribution of the lottery around its expected value (`HB`) is\n",
    "determined by the parameters `LotNum` (which defines the number of possible outcomes in the \n",
    "lottery) and `LotShape` (which defines whether the distribution is symmetric around its mean,\n",
    "right-skewed, left-skewed, or undefined if `LotNum` = 1), as explained in Appendix A. The\n",
    "Corr parameter determines whether there is a correlation (positive, negative, or zero) between\n",
    "the payoffs of the two options.\n",
    "The tenth parameter, Ambiguity (`Amb`), captures the precision of the initial\n",
    "information the decision maker receives concerning the probabilities of the possible\n",
    "outcomes in Option B. We focus on the two extreme cases: `Amb` = 1 implies no initial\n",
    "information concerning these probabilities (they are described with undisclosed fixed\n",
    "parameters), and `Amb` = 0 implies complete information and no ambiguity (as in Allais, 1953;\n",
    "Kahneman & Tversky, 1979).\n",
    "The eleventh dimension in the space is the amount of feedback the decision maker\n",
    "receives after making a decision. As Table 1 shows, some phenomena emerge in decisions\n",
    "without feedback (i.e., decisions from description), and other phenomena emerge when the\n",
    "decision maker can rely on feedback (i.e., decisions from experience). We studied this\n",
    "dimension within problem. That is, decision makers faced each problem first without\n",
    "feedback, and then with full feedback (i.e., realization of the obtained and forgone outcomes\n",
    "following each choice)."
   ]
  },
  {
   "cell_type": "code",
   "execution_count": 29,
   "id": "unable-amsterdam",
   "metadata": {
    "ExecuteTime": {
     "end_time": "2023-10-24T13:50:37.697445Z",
     "start_time": "2023-10-24T13:50:37.692673Z"
    }
   },
   "outputs": [
    {
     "data": {
      "text/plain": "686"
     },
     "execution_count": 29,
     "metadata": {},
     "output_type": "execute_result"
    }
   ],
   "source": [
    "len(df.SubjID.unique())"
   ]
  },
  {
   "cell_type": "code",
   "execution_count": 30,
   "id": "baking-navigator",
   "metadata": {
    "ExecuteTime": {
     "end_time": "2023-10-24T13:50:37.861559Z",
     "start_time": "2023-10-24T13:50:37.857204Z"
    }
   },
   "outputs": [
    {
     "data": {
      "text/plain": "443000"
     },
     "execution_count": 30,
     "metadata": {},
     "output_type": "execute_result"
    }
   ],
   "source": [
    "(df.Amb == 0).sum()"
   ]
  },
  {
   "cell_type": "code",
   "execution_count": 31,
   "id": "atmospheric-atlantic",
   "metadata": {
    "scrolled": true,
    "ExecuteTime": {
     "end_time": "2023-10-24T13:50:38.031936Z",
     "start_time": "2023-10-24T13:50:38.025608Z"
    }
   },
   "outputs": [
    {
     "data": {
      "text/plain": "[0.01, 0.05, 0.1, 0.2, 0.25, 0.4, 0.5, 0.6, 0.75, 0.8, 0.9, 0.95, 0.99, 1.0]"
     },
     "execution_count": 31,
     "metadata": {},
     "output_type": "execute_result"
    }
   ],
   "source": [
    "sorted(df.pHb.unique())"
   ]
  },
  {
   "cell_type": "code",
   "execution_count": 32,
   "id": "broke-carbon",
   "metadata": {
    "ExecuteTime": {
     "end_time": "2023-10-24T13:50:38.194947Z",
     "start_time": "2023-10-24T13:50:38.189970Z"
    }
   },
   "outputs": [
    {
     "data": {
      "text/plain": "[0.01, 0.05, 0.1, 0.2, 0.25, 0.4, 0.5, 0.6, 0.75, 0.8, 0.9, 0.95, 0.99, 1.0]"
     },
     "execution_count": 32,
     "metadata": {},
     "output_type": "execute_result"
    }
   ],
   "source": [
    "sorted(df.pHa.unique())"
   ]
  },
  {
   "cell_type": "code",
   "execution_count": 33,
   "id": "adequate-tattoo",
   "metadata": {
    "ExecuteTime": {
     "end_time": "2023-10-24T13:50:38.354784Z",
     "start_time": "2023-10-24T13:50:38.350747Z"
    }
   },
   "outputs": [
    {
     "name": "stdout",
     "output_type": "stream",
     "text": [
      "[-9, -8, -7, -6, -5, -4, -3, -2, -1, 0, 1, 2, 3, 4, 5, 6, 7, 8, 9, 10, 11, 12, 13, 14, 15, 16, 17, 18, 19, 20, 21, 22, 23, 24, 25, 26, 27, 28, 29, 30, 31, 32, 35, 36, 37, 39, 41, 42, 43, 44, 45, 46, 49, 50, 51, 52, 53, 58, 60, 65, 67, 68, 71, 72, 74, 76, 83, 85, 87, 92, 94, 104]\n"
     ]
    }
   ],
   "source": [
    "print(sorted(df.Ha.unique()))"
   ]
  },
  {
   "cell_type": "code",
   "execution_count": 34,
   "id": "pressing-universal",
   "metadata": {
    "ExecuteTime": {
     "end_time": "2023-10-24T13:50:38.524831Z",
     "start_time": "2023-10-24T13:50:38.520474Z"
    }
   },
   "outputs": [
    {
     "name": "stdout",
     "output_type": "stream",
     "text": [
      "[-47, -41, -40, -39, -38, -37, -36, -33, -29, -27, -26, -24, -22, -20, -18, -17, -16, -14, -13, -11, -9, -8, -7, -6, -5, -4, -3, -2, -1, 0, 1, 2, 3, 4, 5, 6, 7, 9, 10, 11, 12, 13, 14, 16, 17, 18, 19, 20, 21, 22, 23, 24, 25, 26, 27, 28, 29, 30]\n"
     ]
    }
   ],
   "source": [
    "print(sorted(df.La.unique()))"
   ]
  },
  {
   "cell_type": "code",
   "execution_count": 35,
   "id": "south-ethernet",
   "metadata": {
    "ExecuteTime": {
     "end_time": "2023-10-24T13:50:38.687071Z",
     "start_time": "2023-10-24T13:50:38.681633Z"
    }
   },
   "outputs": [
    {
     "name": "stdout",
     "output_type": "stream",
     "text": [
      "[-11, -10, -5, -4, -2, -1, 0, 1, 2, 3, 4, 5, 6, 7, 8, 9, 10, 12, 13, 14, 15, 16, 18, 20, 21, 22, 23, 24, 25, 26, 27, 28, 29, 30, 31, 32, 33, 34, 35, 36, 37, 38, 40, 41, 42, 43, 44, 45, 46, 47, 48, 50, 51, 52, 53, 54, 55, 57, 59, 60, 61, 64, 65, 68, 70, 71, 73, 75, 76, 77, 79, 80, 82, 84, 88, 90, 91, 92, 93, 97, 100, 101, 102, 103, 112, 116]\n"
     ]
    }
   ],
   "source": [
    "print(sorted(df.Hb.unique()))"
   ]
  },
  {
   "cell_type": "code",
   "execution_count": 36,
   "id": "ordered-project",
   "metadata": {
    "ExecuteTime": {
     "end_time": "2023-10-24T13:50:38.867229Z",
     "start_time": "2023-10-24T13:50:38.863179Z"
    }
   },
   "outputs": [
    {
     "name": "stdout",
     "output_type": "stream",
     "text": [
      "[-50, -49, -46, -45, -44, -43, -40, -37, -36, -35, -34, -33, -32, -31, -30, -29, -27, -26, -25, -24, -23, -22, -21, -20, -19, -18, -17, -16, -15, -14, -13, -12, -11, -10, -9, -8, -7, -5, -4, -3, -2, -1, 0, 1, 2, 3, 4, 5, 6, 8, 9, 10, 11, 12, 13, 14, 15, 16, 17, 19, 20, 21, 22, 23, 24, 25, 26, 27, 28, 32, 36]\n"
     ]
    }
   ],
   "source": [
    "print(sorted(df.Lb.unique()))"
   ]
  },
  {
   "cell_type": "code",
   "execution_count": 37,
   "id": "featured-freeware",
   "metadata": {
    "scrolled": true,
    "ExecuteTime": {
     "end_time": "2023-10-24T13:50:39.068537Z",
     "start_time": "2023-10-24T13:50:39.016610Z"
    }
   },
   "outputs": [
    {
     "data": {
      "text/plain": "        SubjID  Location Gender  Age  Set Condition  GameID  Ha  pHa  La  ...  \\\n25       10100   Rehovot      M   28    1    ByProb      25   2  1.0   2  ...   \n26       10100   Rehovot      M   28    1    ByProb      25   2  1.0   2  ...   \n27       10100   Rehovot      M   28    1    ByProb      25   2  1.0   2  ...   \n28       10100   Rehovot      M   28    1    ByProb      25   2  1.0   2  ...   \n29       10100   Rehovot      M   28    1    ByProb      25   2  1.0   2  ...   \n...        ...       ...    ...  ...  ...       ...     ...  ..  ...  ..  ...   \n510395   71109  Technion      M   24    7    ByProb     186  19  1.0  19  ...   \n510396   71109  Technion      M   24    7    ByProb     186  19  1.0  19  ...   \n510397   71109  Technion      M   24    7    ByProb     186  19  1.0  19  ...   \n510398   71109  Technion      M   24    7    ByProb     186  19  1.0  19  ...   \n510399   71109  Technion      M   24    7    ByProb     186  19  1.0  19  ...   \n\n       Trial  Button  B  Payoff  Forgone     RT  Apay  Bpay  Feedback  block  \n25         1       R  0       2        1    NaN     2     1         0      1  \n26         2       R  0       2        3    NaN     2     3         0      1  \n27         3       R  0       2        3    NaN     2     3         0      1  \n28         4       R  0       2        1    NaN     2     1         0      1  \n29         5       R  0       2        3    NaN     2     3         0      1  \n...      ...     ... ..     ...      ...    ...   ...   ...       ...    ...  \n510395    21       L  0      19        5  405.0    19     5         1      5  \n510396    22       L  0      19        5  470.0    19     5         1      5  \n510397    23       L  0      19        5  367.0    19     5         1      5  \n510398    24       L  0      19        5  499.0    19     5         1      5  \n510399    25       L  0      19        5  445.0    19     5         1      5  \n\n[103125 rows x 30 columns]",
      "text/html": "<div>\n<style scoped>\n    .dataframe tbody tr th:only-of-type {\n        vertical-align: middle;\n    }\n\n    .dataframe tbody tr th {\n        vertical-align: top;\n    }\n\n    .dataframe thead th {\n        text-align: right;\n    }\n</style>\n<table border=\"1\" class=\"dataframe\">\n  <thead>\n    <tr style=\"text-align: right;\">\n      <th></th>\n      <th>SubjID</th>\n      <th>Location</th>\n      <th>Gender</th>\n      <th>Age</th>\n      <th>Set</th>\n      <th>Condition</th>\n      <th>GameID</th>\n      <th>Ha</th>\n      <th>pHa</th>\n      <th>La</th>\n      <th>...</th>\n      <th>Trial</th>\n      <th>Button</th>\n      <th>B</th>\n      <th>Payoff</th>\n      <th>Forgone</th>\n      <th>RT</th>\n      <th>Apay</th>\n      <th>Bpay</th>\n      <th>Feedback</th>\n      <th>block</th>\n    </tr>\n  </thead>\n  <tbody>\n    <tr>\n      <th>25</th>\n      <td>10100</td>\n      <td>Rehovot</td>\n      <td>M</td>\n      <td>28</td>\n      <td>1</td>\n      <td>ByProb</td>\n      <td>25</td>\n      <td>2</td>\n      <td>1.0</td>\n      <td>2</td>\n      <td>...</td>\n      <td>1</td>\n      <td>R</td>\n      <td>0</td>\n      <td>2</td>\n      <td>1</td>\n      <td>NaN</td>\n      <td>2</td>\n      <td>1</td>\n      <td>0</td>\n      <td>1</td>\n    </tr>\n    <tr>\n      <th>26</th>\n      <td>10100</td>\n      <td>Rehovot</td>\n      <td>M</td>\n      <td>28</td>\n      <td>1</td>\n      <td>ByProb</td>\n      <td>25</td>\n      <td>2</td>\n      <td>1.0</td>\n      <td>2</td>\n      <td>...</td>\n      <td>2</td>\n      <td>R</td>\n      <td>0</td>\n      <td>2</td>\n      <td>3</td>\n      <td>NaN</td>\n      <td>2</td>\n      <td>3</td>\n      <td>0</td>\n      <td>1</td>\n    </tr>\n    <tr>\n      <th>27</th>\n      <td>10100</td>\n      <td>Rehovot</td>\n      <td>M</td>\n      <td>28</td>\n      <td>1</td>\n      <td>ByProb</td>\n      <td>25</td>\n      <td>2</td>\n      <td>1.0</td>\n      <td>2</td>\n      <td>...</td>\n      <td>3</td>\n      <td>R</td>\n      <td>0</td>\n      <td>2</td>\n      <td>3</td>\n      <td>NaN</td>\n      <td>2</td>\n      <td>3</td>\n      <td>0</td>\n      <td>1</td>\n    </tr>\n    <tr>\n      <th>28</th>\n      <td>10100</td>\n      <td>Rehovot</td>\n      <td>M</td>\n      <td>28</td>\n      <td>1</td>\n      <td>ByProb</td>\n      <td>25</td>\n      <td>2</td>\n      <td>1.0</td>\n      <td>2</td>\n      <td>...</td>\n      <td>4</td>\n      <td>R</td>\n      <td>0</td>\n      <td>2</td>\n      <td>1</td>\n      <td>NaN</td>\n      <td>2</td>\n      <td>1</td>\n      <td>0</td>\n      <td>1</td>\n    </tr>\n    <tr>\n      <th>29</th>\n      <td>10100</td>\n      <td>Rehovot</td>\n      <td>M</td>\n      <td>28</td>\n      <td>1</td>\n      <td>ByProb</td>\n      <td>25</td>\n      <td>2</td>\n      <td>1.0</td>\n      <td>2</td>\n      <td>...</td>\n      <td>5</td>\n      <td>R</td>\n      <td>0</td>\n      <td>2</td>\n      <td>3</td>\n      <td>NaN</td>\n      <td>2</td>\n      <td>3</td>\n      <td>0</td>\n      <td>1</td>\n    </tr>\n    <tr>\n      <th>...</th>\n      <td>...</td>\n      <td>...</td>\n      <td>...</td>\n      <td>...</td>\n      <td>...</td>\n      <td>...</td>\n      <td>...</td>\n      <td>...</td>\n      <td>...</td>\n      <td>...</td>\n      <td>...</td>\n      <td>...</td>\n      <td>...</td>\n      <td>...</td>\n      <td>...</td>\n      <td>...</td>\n      <td>...</td>\n      <td>...</td>\n      <td>...</td>\n      <td>...</td>\n      <td>...</td>\n    </tr>\n    <tr>\n      <th>510395</th>\n      <td>71109</td>\n      <td>Technion</td>\n      <td>M</td>\n      <td>24</td>\n      <td>7</td>\n      <td>ByProb</td>\n      <td>186</td>\n      <td>19</td>\n      <td>1.0</td>\n      <td>19</td>\n      <td>...</td>\n      <td>21</td>\n      <td>L</td>\n      <td>0</td>\n      <td>19</td>\n      <td>5</td>\n      <td>405.0</td>\n      <td>19</td>\n      <td>5</td>\n      <td>1</td>\n      <td>5</td>\n    </tr>\n    <tr>\n      <th>510396</th>\n      <td>71109</td>\n      <td>Technion</td>\n      <td>M</td>\n      <td>24</td>\n      <td>7</td>\n      <td>ByProb</td>\n      <td>186</td>\n      <td>19</td>\n      <td>1.0</td>\n      <td>19</td>\n      <td>...</td>\n      <td>22</td>\n      <td>L</td>\n      <td>0</td>\n      <td>19</td>\n      <td>5</td>\n      <td>470.0</td>\n      <td>19</td>\n      <td>5</td>\n      <td>1</td>\n      <td>5</td>\n    </tr>\n    <tr>\n      <th>510397</th>\n      <td>71109</td>\n      <td>Technion</td>\n      <td>M</td>\n      <td>24</td>\n      <td>7</td>\n      <td>ByProb</td>\n      <td>186</td>\n      <td>19</td>\n      <td>1.0</td>\n      <td>19</td>\n      <td>...</td>\n      <td>23</td>\n      <td>L</td>\n      <td>0</td>\n      <td>19</td>\n      <td>5</td>\n      <td>367.0</td>\n      <td>19</td>\n      <td>5</td>\n      <td>1</td>\n      <td>5</td>\n    </tr>\n    <tr>\n      <th>510398</th>\n      <td>71109</td>\n      <td>Technion</td>\n      <td>M</td>\n      <td>24</td>\n      <td>7</td>\n      <td>ByProb</td>\n      <td>186</td>\n      <td>19</td>\n      <td>1.0</td>\n      <td>19</td>\n      <td>...</td>\n      <td>24</td>\n      <td>L</td>\n      <td>0</td>\n      <td>19</td>\n      <td>5</td>\n      <td>499.0</td>\n      <td>19</td>\n      <td>5</td>\n      <td>1</td>\n      <td>5</td>\n    </tr>\n    <tr>\n      <th>510399</th>\n      <td>71109</td>\n      <td>Technion</td>\n      <td>M</td>\n      <td>24</td>\n      <td>7</td>\n      <td>ByProb</td>\n      <td>186</td>\n      <td>19</td>\n      <td>1.0</td>\n      <td>19</td>\n      <td>...</td>\n      <td>25</td>\n      <td>L</td>\n      <td>0</td>\n      <td>19</td>\n      <td>5</td>\n      <td>445.0</td>\n      <td>19</td>\n      <td>5</td>\n      <td>1</td>\n      <td>5</td>\n    </tr>\n  </tbody>\n</table>\n<p>103125 rows × 30 columns</p>\n</div>"
     },
     "execution_count": 37,
     "metadata": {},
     "output_type": "execute_result"
    }
   ],
   "source": [
    "data = df[(df.LotNumB == 1) & (df.LotNumA == 1) & (df.Amb == 0) \n",
    "          & (df.Ha >= 0) & (df.Hb >= 0) & (df.La >= 0) & (df.Lb >= 0)]  # & (df.La ==0)  & (df.Lb == 0)\n",
    "data"
   ]
  },
  {
   "cell_type": "code",
   "execution_count": 38,
   "id": "documented-dragon",
   "metadata": {
    "ExecuteTime": {
     "end_time": "2023-10-24T13:50:39.249452Z",
     "start_time": "2023-10-24T13:50:39.217124Z"
    }
   },
   "outputs": [
    {
     "name": "stdout",
     "output_type": "stream",
     "text": [
      "[0.01, 0.1, 0.25, 0.5, 0.6, 0.95, 1.0]\n",
      "[0.01, 0.05, 0.1, 0.2, 0.25, 0.4, 0.5, 0.6, 0.75, 0.8, 0.9, 0.95, 1.0]\n",
      "[1, 2, 3, 6, 7, 9, 10, 13, 14, 15, 16, 17, 18, 19, 20, 23, 24, 25, 28, 30, 32, 39, 51, 53, 60, 85]\n",
      "[0, 1, 2, 3, 4, 7, 9, 10, 13, 14, 16, 17, 18, 19, 20, 21, 23, 24, 25, 27, 28, 30]\n",
      "[2, 3, 4, 6, 8, 9, 12, 16, 20, 21, 32, 33, 34, 35, 38, 41, 42, 43, 44, 45, 48, 50, 54, 59, 64, 65, 70, 90, 97, 100, 101]\n",
      "[0, 1, 2, 3, 4, 5, 6, 8, 9, 10, 11, 12, 14, 16, 17, 19, 23, 24, 28, 36]\n"
     ]
    }
   ],
   "source": [
    "print(sorted(data.pHa.unique()))\n",
    "print(sorted(data.pHb.unique()))\n",
    "\n",
    "print(sorted(data.Ha.unique()))\n",
    "\n",
    "print(sorted(data.La.unique()))\n",
    "\n",
    "print(sorted(data.Hb.unique()))\n",
    "\n",
    "print(sorted(data.Lb.unique()))"
   ]
  },
  {
   "cell_type": "code",
   "execution_count": 39,
   "id": "involved-custom",
   "metadata": {
    "scrolled": true,
    "ExecuteTime": {
     "end_time": "2023-10-24T13:50:39.449624Z",
     "start_time": "2023-10-24T13:50:39.446292Z"
    }
   },
   "outputs": [
    {
     "data": {
      "text/plain": "        SubjID  Ha  pHa  La  LotNumA  Hb  pHb  Lb  LotNumB  Order  Trial  B  \\\n25       10100   2  1.0   2        1   3  0.5   1        1      2      1  0   \n26       10100   2  1.0   2        1   3  0.5   1        1      2      2  0   \n27       10100   2  1.0   2        1   3  0.5   1        1      2      3  0   \n28       10100   2  1.0   2        1   3  0.5   1        1      2      4  0   \n29       10100   2  1.0   2        1   3  0.5   1        1      2      5  0   \n...        ...  ..  ...  ..      ...  ..  ...  ..      ...    ...    ... ..   \n510395   71109  19  1.0  19        1  97  0.1   5        1     16     21  0   \n510396   71109  19  1.0  19        1  97  0.1   5        1     16     22  0   \n510397   71109  19  1.0  19        1  97  0.1   5        1     16     23  0   \n510398   71109  19  1.0  19        1  97  0.1   5        1     16     24  0   \n510399   71109  19  1.0  19        1  97  0.1   5        1     16     25  0   \n\n        Payoff  Forgone  Apay  Bpay  Feedback  \n25           2        1     2     1         0  \n26           2        3     2     3         0  \n27           2        3     2     3         0  \n28           2        1     2     1         0  \n29           2        3     2     3         0  \n...        ...      ...   ...   ...       ...  \n510395      19        5    19     5         1  \n510396      19        5    19     5         1  \n510397      19        5    19     5         1  \n510398      19        5    19     5         1  \n510399      19        5    19     5         1  \n\n[103125 rows x 17 columns]",
      "text/html": "<div>\n<style scoped>\n    .dataframe tbody tr th:only-of-type {\n        vertical-align: middle;\n    }\n\n    .dataframe tbody tr th {\n        vertical-align: top;\n    }\n\n    .dataframe thead th {\n        text-align: right;\n    }\n</style>\n<table border=\"1\" class=\"dataframe\">\n  <thead>\n    <tr style=\"text-align: right;\">\n      <th></th>\n      <th>SubjID</th>\n      <th>Ha</th>\n      <th>pHa</th>\n      <th>La</th>\n      <th>LotNumA</th>\n      <th>Hb</th>\n      <th>pHb</th>\n      <th>Lb</th>\n      <th>LotNumB</th>\n      <th>Order</th>\n      <th>Trial</th>\n      <th>B</th>\n      <th>Payoff</th>\n      <th>Forgone</th>\n      <th>Apay</th>\n      <th>Bpay</th>\n      <th>Feedback</th>\n    </tr>\n  </thead>\n  <tbody>\n    <tr>\n      <th>25</th>\n      <td>10100</td>\n      <td>2</td>\n      <td>1.0</td>\n      <td>2</td>\n      <td>1</td>\n      <td>3</td>\n      <td>0.5</td>\n      <td>1</td>\n      <td>1</td>\n      <td>2</td>\n      <td>1</td>\n      <td>0</td>\n      <td>2</td>\n      <td>1</td>\n      <td>2</td>\n      <td>1</td>\n      <td>0</td>\n    </tr>\n    <tr>\n      <th>26</th>\n      <td>10100</td>\n      <td>2</td>\n      <td>1.0</td>\n      <td>2</td>\n      <td>1</td>\n      <td>3</td>\n      <td>0.5</td>\n      <td>1</td>\n      <td>1</td>\n      <td>2</td>\n      <td>2</td>\n      <td>0</td>\n      <td>2</td>\n      <td>3</td>\n      <td>2</td>\n      <td>3</td>\n      <td>0</td>\n    </tr>\n    <tr>\n      <th>27</th>\n      <td>10100</td>\n      <td>2</td>\n      <td>1.0</td>\n      <td>2</td>\n      <td>1</td>\n      <td>3</td>\n      <td>0.5</td>\n      <td>1</td>\n      <td>1</td>\n      <td>2</td>\n      <td>3</td>\n      <td>0</td>\n      <td>2</td>\n      <td>3</td>\n      <td>2</td>\n      <td>3</td>\n      <td>0</td>\n    </tr>\n    <tr>\n      <th>28</th>\n      <td>10100</td>\n      <td>2</td>\n      <td>1.0</td>\n      <td>2</td>\n      <td>1</td>\n      <td>3</td>\n      <td>0.5</td>\n      <td>1</td>\n      <td>1</td>\n      <td>2</td>\n      <td>4</td>\n      <td>0</td>\n      <td>2</td>\n      <td>1</td>\n      <td>2</td>\n      <td>1</td>\n      <td>0</td>\n    </tr>\n    <tr>\n      <th>29</th>\n      <td>10100</td>\n      <td>2</td>\n      <td>1.0</td>\n      <td>2</td>\n      <td>1</td>\n      <td>3</td>\n      <td>0.5</td>\n      <td>1</td>\n      <td>1</td>\n      <td>2</td>\n      <td>5</td>\n      <td>0</td>\n      <td>2</td>\n      <td>3</td>\n      <td>2</td>\n      <td>3</td>\n      <td>0</td>\n    </tr>\n    <tr>\n      <th>...</th>\n      <td>...</td>\n      <td>...</td>\n      <td>...</td>\n      <td>...</td>\n      <td>...</td>\n      <td>...</td>\n      <td>...</td>\n      <td>...</td>\n      <td>...</td>\n      <td>...</td>\n      <td>...</td>\n      <td>...</td>\n      <td>...</td>\n      <td>...</td>\n      <td>...</td>\n      <td>...</td>\n      <td>...</td>\n    </tr>\n    <tr>\n      <th>510395</th>\n      <td>71109</td>\n      <td>19</td>\n      <td>1.0</td>\n      <td>19</td>\n      <td>1</td>\n      <td>97</td>\n      <td>0.1</td>\n      <td>5</td>\n      <td>1</td>\n      <td>16</td>\n      <td>21</td>\n      <td>0</td>\n      <td>19</td>\n      <td>5</td>\n      <td>19</td>\n      <td>5</td>\n      <td>1</td>\n    </tr>\n    <tr>\n      <th>510396</th>\n      <td>71109</td>\n      <td>19</td>\n      <td>1.0</td>\n      <td>19</td>\n      <td>1</td>\n      <td>97</td>\n      <td>0.1</td>\n      <td>5</td>\n      <td>1</td>\n      <td>16</td>\n      <td>22</td>\n      <td>0</td>\n      <td>19</td>\n      <td>5</td>\n      <td>19</td>\n      <td>5</td>\n      <td>1</td>\n    </tr>\n    <tr>\n      <th>510397</th>\n      <td>71109</td>\n      <td>19</td>\n      <td>1.0</td>\n      <td>19</td>\n      <td>1</td>\n      <td>97</td>\n      <td>0.1</td>\n      <td>5</td>\n      <td>1</td>\n      <td>16</td>\n      <td>23</td>\n      <td>0</td>\n      <td>19</td>\n      <td>5</td>\n      <td>19</td>\n      <td>5</td>\n      <td>1</td>\n    </tr>\n    <tr>\n      <th>510398</th>\n      <td>71109</td>\n      <td>19</td>\n      <td>1.0</td>\n      <td>19</td>\n      <td>1</td>\n      <td>97</td>\n      <td>0.1</td>\n      <td>5</td>\n      <td>1</td>\n      <td>16</td>\n      <td>24</td>\n      <td>0</td>\n      <td>19</td>\n      <td>5</td>\n      <td>19</td>\n      <td>5</td>\n      <td>1</td>\n    </tr>\n    <tr>\n      <th>510399</th>\n      <td>71109</td>\n      <td>19</td>\n      <td>1.0</td>\n      <td>19</td>\n      <td>1</td>\n      <td>97</td>\n      <td>0.1</td>\n      <td>5</td>\n      <td>1</td>\n      <td>16</td>\n      <td>25</td>\n      <td>0</td>\n      <td>19</td>\n      <td>5</td>\n      <td>19</td>\n      <td>5</td>\n      <td>1</td>\n    </tr>\n  </tbody>\n</table>\n<p>103125 rows × 17 columns</p>\n</div>"
     },
     "execution_count": 39,
     "metadata": {},
     "output_type": "execute_result"
    }
   ],
   "source": [
    "data = data.drop(['Location', 'Condition', 'GameID', 'Set', 'Gender', 'Age', 'Amb', 'RT', \n",
    "                                'Button', 'LotShapeA', 'LotShapeB','Corr', 'block'], axis=1)\n",
    "data"
   ]
  },
  {
   "cell_type": "code",
   "execution_count": 40,
   "id": "artificial-oklahoma",
   "metadata": {
    "ExecuteTime": {
     "end_time": "2023-10-24T13:50:39.823865Z",
     "start_time": "2023-10-24T13:50:39.815937Z"
    }
   },
   "outputs": [],
   "source": [
    "data = pd.DataFrame({\n",
    "    \"id\": data.SubjID,\n",
    "    \"pA\": data.pHa.values,\n",
    "    \"xA0\": data.Ha.values,\n",
    "    \"xA1\": data.La.values,\n",
    "    \"pB\": data.pHb.values,\n",
    "    \"xB0\": data.Hb.values,\n",
    "    \"xB1\": data.Lb.values,\n",
    "    \"y\": data.B.values\n",
    "})"
   ]
  },
  {
   "cell_type": "code",
   "execution_count": 41,
   "id": "dedicated-indonesian",
   "metadata": {
    "ExecuteTime": {
     "end_time": "2023-10-24T13:50:40.028767Z",
     "start_time": "2023-10-24T13:50:40.025448Z"
    }
   },
   "outputs": [
    {
     "data": {
      "text/plain": "           id   pA  xA0  xA1   pB  xB0  xB1  y\n25      10100  1.0    2    2  0.5    3    1  0\n26      10100  1.0    2    2  0.5    3    1  0\n27      10100  1.0    2    2  0.5    3    1  0\n28      10100  1.0    2    2  0.5    3    1  0\n29      10100  1.0    2    2  0.5    3    1  0\n...       ...  ...  ...  ...  ...  ...  ... ..\n510395  71109  1.0   19   19  0.1   97    5  0\n510396  71109  1.0   19   19  0.1   97    5  0\n510397  71109  1.0   19   19  0.1   97    5  0\n510398  71109  1.0   19   19  0.1   97    5  0\n510399  71109  1.0   19   19  0.1   97    5  0\n\n[103125 rows x 8 columns]",
      "text/html": "<div>\n<style scoped>\n    .dataframe tbody tr th:only-of-type {\n        vertical-align: middle;\n    }\n\n    .dataframe tbody tr th {\n        vertical-align: top;\n    }\n\n    .dataframe thead th {\n        text-align: right;\n    }\n</style>\n<table border=\"1\" class=\"dataframe\">\n  <thead>\n    <tr style=\"text-align: right;\">\n      <th></th>\n      <th>id</th>\n      <th>pA</th>\n      <th>xA0</th>\n      <th>xA1</th>\n      <th>pB</th>\n      <th>xB0</th>\n      <th>xB1</th>\n      <th>y</th>\n    </tr>\n  </thead>\n  <tbody>\n    <tr>\n      <th>25</th>\n      <td>10100</td>\n      <td>1.0</td>\n      <td>2</td>\n      <td>2</td>\n      <td>0.5</td>\n      <td>3</td>\n      <td>1</td>\n      <td>0</td>\n    </tr>\n    <tr>\n      <th>26</th>\n      <td>10100</td>\n      <td>1.0</td>\n      <td>2</td>\n      <td>2</td>\n      <td>0.5</td>\n      <td>3</td>\n      <td>1</td>\n      <td>0</td>\n    </tr>\n    <tr>\n      <th>27</th>\n      <td>10100</td>\n      <td>1.0</td>\n      <td>2</td>\n      <td>2</td>\n      <td>0.5</td>\n      <td>3</td>\n      <td>1</td>\n      <td>0</td>\n    </tr>\n    <tr>\n      <th>28</th>\n      <td>10100</td>\n      <td>1.0</td>\n      <td>2</td>\n      <td>2</td>\n      <td>0.5</td>\n      <td>3</td>\n      <td>1</td>\n      <td>0</td>\n    </tr>\n    <tr>\n      <th>29</th>\n      <td>10100</td>\n      <td>1.0</td>\n      <td>2</td>\n      <td>2</td>\n      <td>0.5</td>\n      <td>3</td>\n      <td>1</td>\n      <td>0</td>\n    </tr>\n    <tr>\n      <th>...</th>\n      <td>...</td>\n      <td>...</td>\n      <td>...</td>\n      <td>...</td>\n      <td>...</td>\n      <td>...</td>\n      <td>...</td>\n      <td>...</td>\n    </tr>\n    <tr>\n      <th>510395</th>\n      <td>71109</td>\n      <td>1.0</td>\n      <td>19</td>\n      <td>19</td>\n      <td>0.1</td>\n      <td>97</td>\n      <td>5</td>\n      <td>0</td>\n    </tr>\n    <tr>\n      <th>510396</th>\n      <td>71109</td>\n      <td>1.0</td>\n      <td>19</td>\n      <td>19</td>\n      <td>0.1</td>\n      <td>97</td>\n      <td>5</td>\n      <td>0</td>\n    </tr>\n    <tr>\n      <th>510397</th>\n      <td>71109</td>\n      <td>1.0</td>\n      <td>19</td>\n      <td>19</td>\n      <td>0.1</td>\n      <td>97</td>\n      <td>5</td>\n      <td>0</td>\n    </tr>\n    <tr>\n      <th>510398</th>\n      <td>71109</td>\n      <td>1.0</td>\n      <td>19</td>\n      <td>19</td>\n      <td>0.1</td>\n      <td>97</td>\n      <td>5</td>\n      <td>0</td>\n    </tr>\n    <tr>\n      <th>510399</th>\n      <td>71109</td>\n      <td>1.0</td>\n      <td>19</td>\n      <td>19</td>\n      <td>0.1</td>\n      <td>97</td>\n      <td>5</td>\n      <td>0</td>\n    </tr>\n  </tbody>\n</table>\n<p>103125 rows × 8 columns</p>\n</div>"
     },
     "execution_count": 41,
     "metadata": {},
     "output_type": "execute_result"
    }
   ],
   "source": [
    "data"
   ]
  },
  {
   "cell_type": "code",
   "execution_count": 42,
   "id": "formal-affiliation",
   "metadata": {
    "scrolled": true,
    "ExecuteTime": {
     "end_time": "2023-10-24T13:50:40.259876Z",
     "start_time": "2023-10-24T13:50:40.252118Z"
    }
   },
   "outputs": [
    {
     "name": "stdout",
     "output_type": "stream",
     "text": [
      "[0.01, 0.1, 0.25, 0.5, 0.6, 0.95, 1.0]\n",
      "[0.01, 0.05, 0.1, 0.2, 0.25, 0.4, 0.5, 0.6, 0.75, 0.8, 0.9, 0.95, 1.0]\n",
      "[1, 2, 3, 6, 7, 9, 10, 13, 14, 15, 16, 17, 18, 19, 20, 23, 24, 25, 28, 30, 32, 39, 51, 53, 60, 85]\n",
      "[0, 1, 2, 3, 4, 7, 9, 10, 13, 14, 16, 17, 18, 19, 20, 21, 23, 24, 25, 27, 28, 30]\n",
      "[2, 3, 4, 6, 8, 9, 12, 16, 20, 21, 32, 33, 34, 35, 38, 41, 42, 43, 44, 45, 48, 50, 54, 59, 64, 65, 70, 90, 97, 100, 101]\n",
      "[0, 1, 2, 3, 4, 5, 6, 8, 9, 10, 11, 12, 14, 16, 17, 19, 23, 24, 28, 36]\n"
     ]
    }
   ],
   "source": [
    "print(sorted(data.pA.unique()))\n",
    "print(sorted(data.pB.unique()))\n",
    "\n",
    "print(sorted(data.xA0.unique()))\n",
    "\n",
    "print(sorted(data.xA1.unique()))\n",
    "\n",
    "print(sorted(data.xB0.unique()))\n",
    "\n",
    "print(sorted(data.xB1.unique()))"
   ]
  },
  {
   "cell_type": "code",
   "execution_count": 43,
   "id": "strange-signature",
   "metadata": {
    "ExecuteTime": {
     "end_time": "2023-10-24T13:50:40.587871Z",
     "start_time": "2023-10-24T13:50:40.584934Z"
    }
   },
   "outputs": [
    {
     "data": {
      "text/plain": "id\n10100    325\n11020    325\n11303    325\n11302    325\n11301    325\n        ... \n70066     50\n71092     50\n70095     50\n71051     50\n71045     25\nName: count, Length: 686, dtype: int64"
     },
     "execution_count": 43,
     "metadata": {},
     "output_type": "execute_result"
    }
   ],
   "source": [
    "data.id.value_counts()"
   ]
  },
  {
   "cell_type": "code",
   "execution_count": 44,
   "id": "italian-portuguese",
   "metadata": {
    "ExecuteTime": {
     "end_time": "2023-10-24T13:50:40.877979Z",
     "start_time": "2023-10-24T13:50:40.872477Z"
    }
   },
   "outputs": [
    {
     "data": {
      "text/plain": "(25, 325)"
     },
     "execution_count": 44,
     "metadata": {},
     "output_type": "execute_result"
    }
   ],
   "source": [
    "data.id.value_counts().min(), data.id.value_counts().max()"
   ]
  },
  {
   "cell_type": "code",
   "execution_count": 45,
   "id": "decreased-presence",
   "metadata": {
    "ExecuteTime": {
     "end_time": "2023-10-24T13:50:41.536311Z",
     "start_time": "2023-10-24T13:50:41.394984Z"
    }
   },
   "outputs": [
    {
     "data": {
      "text/plain": "<Figure size 640x480 with 1 Axes>",
      "image/png": "[encoded data removed]"
     },
     "metadata": {
      "image/png": {
       "width": 554,
       "height": 418
      }
     },
     "output_type": "display_data"
    }
   ],
   "source": [
    "plt.hist(data.id.value_counts(), bins=\"auto\");"
   ]
  },
  {
   "cell_type": "code",
   "execution_count": null,
   "outputs": [],
   "source": [],
   "metadata": {
    "collapsed": false
   },
   "id": "a769880ce8bbd2a"
  }
 ],
 "metadata": {
  "kernelspec": {
   "display_name": "Python 3",
   "language": "python",
   "name": "python3"
  },
  "language_info": {
   "codemirror_mode": {
    "name": "ipython",
    "version": 3
   },
   "file_extension": ".py",
   "mimetype": "text/x-python",
   "name": "python",
   "nbconvert_exporter": "python",
   "pygments_lexer": "ipython3",
   "version": "3.9.1"
  },
  "toc": {
   "base_numbering": 1,
   "nav_menu": {},
   "number_sections": true,
   "sideBar": true,
   "skip_h1_title": false,
   "title_cell": "Table of Contents",
   "title_sidebar": "Contents",
   "toc_cell": false,
   "toc_position": {},
   "toc_section_display": true,
   "toc_window_display": false
  }
 },
 "nbformat": 4,
 "nbformat_minor": 5
}
